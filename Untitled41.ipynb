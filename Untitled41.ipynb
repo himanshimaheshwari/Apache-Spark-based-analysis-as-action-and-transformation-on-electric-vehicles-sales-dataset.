{
  "nbformat": 4,
  "nbformat_minor": 0,
  "metadata": {
    "colab": {
      "provenance": [],
      "gpuType": "T4"
    },
    "kernelspec": {
      "name": "python3",
      "display_name": "Python 3"
    },
    "language_info": {
      "name": "python"
    },
    "accelerator": "GPU"
  },
  "cells": [
    {
      "cell_type": "code",
      "execution_count": null,
      "metadata": {
        "colab": {
          "base_uri": "https://localhost:8080/"
        },
        "id": "tdyjZMmKtiEL",
        "outputId": "cf161927-983e-4b2a-ea22-b05c073c6c0a"
      },
      "outputs": [
        {
          "output_type": "stream",
          "name": "stdout",
          "text": [
            "Requirement already satisfied: pyspark in /usr/local/lib/python3.10/dist-packages (3.5.3)\n",
            "Requirement already satisfied: py4j==0.10.9.7 in /usr/local/lib/python3.10/dist-packages (from pyspark) (0.10.9.7)\n",
            "+------+----------+--------+--------------+--------------------+----------------+------------+-----------------+\n",
            "|  Year|Month_Name|    Date|         State|       Vehicle_Class|Vehicle_Category|Vehicle_Type|EV_Sales_Quantity|\n",
            "+------+----------+--------+--------------+--------------------+----------------+------------+-----------------+\n",
            "|2014.0|       jan|1/1/2014|Andhra Pradesh|     ADAPTED VEHICLE|          Others|      Others|              0.0|\n",
            "|2014.0|       jan|1/1/2014|Andhra Pradesh|AGRICULTURAL TRACTOR|          Others|      Others|              0.0|\n",
            "|2014.0|       jan|1/1/2014|Andhra Pradesh|           AMBULANCE|          Others|      Others|              0.0|\n",
            "|2014.0|       jan|1/1/2014|Andhra Pradesh| ARTICULATED VEHICLE|          Others|      Others|              0.0|\n",
            "|2014.0|       jan|1/1/2014|Andhra Pradesh|                 BUS|             Bus|         Bus|              0.0|\n",
            "+------+----------+--------+--------------+--------------------+----------------+------------+-----------------+\n",
            "only showing top 5 rows\n",
            "\n",
            "root\n",
            " |-- Year: double (nullable = true)\n",
            " |-- Month_Name: string (nullable = true)\n",
            " |-- Date: string (nullable = true)\n",
            " |-- State: string (nullable = true)\n",
            " |-- Vehicle_Class: string (nullable = true)\n",
            " |-- Vehicle_Category: string (nullable = true)\n",
            " |-- Vehicle_Type: string (nullable = true)\n",
            " |-- EV_Sales_Quantity: double (nullable = true)\n",
            "\n"
          ]
        }
      ],
      "source": [
        "# Step 1: Install PySpark in Colab\n",
        "!pip install pyspark\n",
        "\n",
        "# Step 2: Initialize Spark Session\n",
        "from pyspark.sql import SparkSession\n",
        "\n",
        "spark = SparkSession.builder \\\n",
        "    .appName(\"EV Sales Analysis\") \\\n",
        "    .config(\"spark.some.config.option\", \"some-value\") \\\n",
        "    .getOrCreate()\n",
        "\n",
        "# Step 3: Load the EV Dataset\n",
        "# Replace the path with the actual path of the EV dataset if needed\n",
        "ev_df = spark.read.csv('/content/EV_Dataset.csv', header=True, inferSchema=True)\n",
        "ev_df.show(5)\n",
        "ev_df.printSchema()\n",
        "\n",
        "\n"
      ]
    },
    {
      "cell_type": "code",
      "source": [
        "# Demo Code 1 - Test basic RDD creation and display\n",
        "rdd = spark.sparkContext.parallelize([(1, 2, 3, 'a b c'), (4, 5, 6, 'd e f'), (7, 8, 9, 'g h i')]).toDF(['col1', 'col2', 'col3', 'col4'])\n",
        "rdd.show()"
      ],
      "metadata": {
        "colab": {
          "base_uri": "https://localhost:8080/"
        },
        "id": "tFwBZkWN5V9N",
        "outputId": "9b7b9b45-26b7-4c28-cab6-250bc301849b"
      },
      "execution_count": null,
      "outputs": [
        {
          "output_type": "stream",
          "name": "stdout",
          "text": [
            "+----+----+----+-----+\n",
            "|col1|col2|col3| col4|\n",
            "+----+----+----+-----+\n",
            "|   1|   2|   3|a b c|\n",
            "|   4|   5|   6|d e f|\n",
            "|   7|   8|   9|g h i|\n",
            "+----+----+----+-----+\n",
            "\n"
          ]
        }
      ]
    },
    {
      "cell_type": "code",
      "source": [
        "# Demo Code 2 - Test reading an external CSV file (Advertising.csv)\n",
        "adv_df = spark.read.format('com.databricks.spark.csv').options(header='true', inferschema='true').load('/content/Advertising.csv')\n",
        "adv_df.show(5)\n",
        "adv_df.printSchema()"
      ],
      "metadata": {
        "colab": {
          "base_uri": "https://localhost:8080/"
        },
        "id": "IT8uL6kU5WBb",
        "outputId": "dcf75135-15a0-4e72-b467-dfe6c39c5537"
      },
      "execution_count": null,
      "outputs": [
        {
          "output_type": "stream",
          "name": "stdout",
          "text": [
            "+-----+-----+---------+-----+\n",
            "|   TV|Radio|Newspaper|Sales|\n",
            "+-----+-----+---------+-----+\n",
            "|230.1| 37.8|     69.2| 22.1|\n",
            "| 44.5| 39.3|     45.1| 10.4|\n",
            "| 17.2| 45.9|     69.3|  9.3|\n",
            "|151.5| 41.3|     58.5| 18.5|\n",
            "|180.8| 10.8|     58.4| 12.9|\n",
            "+-----+-----+---------+-----+\n",
            "only showing top 5 rows\n",
            "\n",
            "root\n",
            " |-- TV: double (nullable = true)\n",
            " |-- Radio: double (nullable = true)\n",
            " |-- Newspaper: double (nullable = true)\n",
            " |-- Sales: double (nullable = true)\n",
            "\n"
          ]
        }
      ]
    },
    {
      "cell_type": "code",
      "source": [
        "# Task 1: Transformations\n",
        "# 1. map(func): Example mapping each state with increased sales quantity by 10%\n",
        "mapped_rdd = ev_df.rdd.map(lambda row: (row['State'], row['EV_Sales_Quantity'] * 1.1))\n",
        "mapped_rdd.toDF(['State', 'Updated_Sales']).show(5)"
      ],
      "metadata": {
        "colab": {
          "base_uri": "https://localhost:8080/"
        },
        "id": "_-MyYLU35WDd",
        "outputId": "f5b1cb7e-df83-49e9-d03c-8bd3302303e3"
      },
      "execution_count": null,
      "outputs": [
        {
          "output_type": "stream",
          "name": "stdout",
          "text": [
            "+--------------+-------------+\n",
            "|         State|Updated_Sales|\n",
            "+--------------+-------------+\n",
            "|Andhra Pradesh|          0.0|\n",
            "|Andhra Pradesh|          0.0|\n",
            "|Andhra Pradesh|          0.0|\n",
            "|Andhra Pradesh|          0.0|\n",
            "|Andhra Pradesh|          0.0|\n",
            "+--------------+-------------+\n",
            "only showing top 5 rows\n",
            "\n"
          ]
        }
      ]
    },
    {
      "cell_type": "code",
      "source": [
        "# 2. filter(func): Filter for only two-wheeler vehicle types\n",
        "filtered_df = ev_df.filter(ev_df['Vehicle_Type'] == 'Two Wheeler')\n",
        "filtered_df.show()"
      ],
      "metadata": {
        "colab": {
          "base_uri": "https://localhost:8080/"
        },
        "id": "qS4ew-D75WGd",
        "outputId": "046c75e4-0d37-4de4-9e32-d2c9df735ab5"
      },
      "execution_count": null,
      "outputs": [
        {
          "output_type": "stream",
          "name": "stdout",
          "text": [
            "+----+----------+----+-----+-------------+----------------+------------+-----------------+\n",
            "|Year|Month_Name|Date|State|Vehicle_Class|Vehicle_Category|Vehicle_Type|EV_Sales_Quantity|\n",
            "+----+----------+----+-----+-------------+----------------+------------+-----------------+\n",
            "+----+----------+----+-----+-------------+----------------+------------+-----------------+\n",
            "\n"
          ]
        }
      ]
    },
    {
      "cell_type": "code",
      "source": [
        "# 3. flatMap(func): Example splitting state names (each word as a separate row)\n",
        "flat_mapped_rdd = ev_df.rdd.flatMap(lambda row: [(word,) for word in row['State'].split()])\n",
        "flat_mapped_df = flat_mapped_rdd.toDF([\"Words\"])\n",
        "flat_mapped_df.show(5)"
      ],
      "metadata": {
        "colab": {
          "base_uri": "https://localhost:8080/"
        },
        "id": "OeN7lrOl5WJe",
        "outputId": "593a1fc9-9a0d-4356-aaa3-f3ae9058a981"
      },
      "execution_count": null,
      "outputs": [
        {
          "output_type": "stream",
          "name": "stdout",
          "text": [
            "+-------+\n",
            "|  Words|\n",
            "+-------+\n",
            "| Andhra|\n",
            "|Pradesh|\n",
            "| Andhra|\n",
            "|Pradesh|\n",
            "| Andhra|\n",
            "+-------+\n",
            "only showing top 5 rows\n",
            "\n"
          ]
        }
      ]
    },
    {
      "cell_type": "code",
      "source": [
        "# 4. distinct(): Retrieve distinct vehicle types\n",
        "distinct_vehicle_types = ev_df.select(\"Vehicle_Type\").distinct()\n",
        "distinct_vehicle_types.show()"
      ],
      "metadata": {
        "colab": {
          "base_uri": "https://localhost:8080/"
        },
        "id": "kFeRaXjJ5WMY",
        "outputId": "8fc42f9c-fb5b-488a-ef97-d4eec6bbcc39"
      },
      "execution_count": null,
      "outputs": [
        {
          "output_type": "stream",
          "name": "stdout",
          "text": [
            "+------------------+\n",
            "|      Vehicle_Type|\n",
            "+------------------+\n",
            "|         3W_Shared|\n",
            "|          3W_Goods|\n",
            "|   Institution Bus|\n",
            "|       3W_Personal|\n",
            "|       2W_Personal|\n",
            "|            Others|\n",
            "| 3W_Goods_LowSpeed|\n",
            "|       4W_Personal|\n",
            "|               Bus|\n",
            "|3W_Shared_LowSpeed|\n",
            "|         2W_Shared|\n",
            "|         4W_Shared|\n",
            "+------------------+\n",
            "\n"
          ]
        }
      ]
    },
    {
      "cell_type": "code",
      "source": [
        "# 5. union(otherRDD): Union of EV and Advertising dataset for demo (structure demonstration)\n",
        "# Assuming adv_df has a column named \"TV\" to match structure\n",
        "union_df = ev_df.select(\"State\").union(adv_df.select(\"TV\").withColumnRenamed(\"TV\", \"Common_Field\"))\n",
        "union_df.show(5)"
      ],
      "metadata": {
        "colab": {
          "base_uri": "https://localhost:8080/"
        },
        "id": "m7YL_qWh5WPZ",
        "outputId": "6a3b9f76-bead-4625-ae6f-757dbf7f247a"
      },
      "execution_count": null,
      "outputs": [
        {
          "output_type": "stream",
          "name": "stdout",
          "text": [
            "+--------------+\n",
            "|         State|\n",
            "+--------------+\n",
            "|Andhra Pradesh|\n",
            "|Andhra Pradesh|\n",
            "|Andhra Pradesh|\n",
            "|Andhra Pradesh|\n",
            "|Andhra Pradesh|\n",
            "+--------------+\n",
            "only showing top 5 rows\n",
            "\n"
          ]
        }
      ]
    },
    {
      "cell_type": "code",
      "source": [
        "# 6. intersection(otherRDD): Example intersection (similar values between state and TV columns)\n",
        "# Ensure adv_df has a column \"TV\" and the types match\n",
        "intersect_df = ev_df.select(\"State\").intersect(adv_df.select(\"TV\").withColumnRenamed(\"TV\", \"State\"))\n",
        "intersect_df.show()"
      ],
      "metadata": {
        "colab": {
          "base_uri": "https://localhost:8080/"
        },
        "id": "-txNAu6B5WSN",
        "outputId": "7b401154-0a76-4ef1-d6b1-c56818001c6d"
      },
      "execution_count": null,
      "outputs": [
        {
          "output_type": "stream",
          "name": "stdout",
          "text": [
            "+-----+\n",
            "|State|\n",
            "+-----+\n",
            "+-----+\n",
            "\n"
          ]
        }
      ]
    },
    {
      "cell_type": "code",
      "source": [
        "# 7. subtract(otherRDD): Example difference (EV states not in Advertising CSV's TV column)\n",
        "subtracted_df = ev_df.select(\"State\").subtract(adv_df.select(\"TV\").withColumnRenamed(\"TV\", \"State\"))\n",
        "subtracted_df.show()"
      ],
      "metadata": {
        "colab": {
          "base_uri": "https://localhost:8080/"
        },
        "id": "xJ87qlVn5WVA",
        "outputId": "8cadbd07-8394-44c5-f647-bd4e30c3126e"
      },
      "execution_count": null,
      "outputs": [
        {
          "output_type": "stream",
          "name": "stdout",
          "text": [
            "+-----------------+\n",
            "|            State|\n",
            "+-----------------+\n",
            "|         Nagaland|\n",
            "|        Karnataka|\n",
            "|           Odisha|\n",
            "|           Kerala|\n",
            "|           Ladakh|\n",
            "|       Tamil Nadu|\n",
            "|     Chhattisgarh|\n",
            "|   Andhra Pradesh|\n",
            "|   Madhya Pradesh|\n",
            "|       DNH and DD|\n",
            "|           Punjab|\n",
            "|          Manipur|\n",
            "|              Goa|\n",
            "|          Mizoram|\n",
            "| Himachal Pradesh|\n",
            "|       Puducherry|\n",
            "|          Haryana|\n",
            "|Jammu and Kashmir|\n",
            "|        Jharkhand|\n",
            "|Arunachal Pradesh|\n",
            "+-----------------+\n",
            "only showing top 20 rows\n",
            "\n"
          ]
        }
      ]
    },
    {
      "cell_type": "code",
      "source": [
        "# 8. groupByKey(): Group sales quantity by state\n",
        "# Ensure to use correct column name \"EV_Sales_Quantity\"\n",
        "sales_rdd = ev_df.rdd.map(lambda row: (row['State'], row['EV_Sales_Quantity']))\n",
        "grouped_sales = sales_rdd.groupByKey().mapValues(list)\n",
        "grouped_sales_df = grouped_sales.toDF([\"State\", \"Sales_List\"])\n",
        "grouped_sales_df.show(5)"
      ],
      "metadata": {
        "colab": {
          "base_uri": "https://localhost:8080/"
        },
        "id": "3M2_TCqv5WYO",
        "outputId": "f4fd3283-3cf6-462f-b71c-a67edcaf128d"
      },
      "execution_count": null,
      "outputs": [
        {
          "output_type": "stream",
          "name": "stdout",
          "text": [
            "+-----------------+--------------------+\n",
            "|            State|          Sales_List|\n",
            "+-----------------+--------------------+\n",
            "|   Andhra Pradesh|[0.0, 0.0, 0.0, 0...|\n",
            "|Arunachal Pradesh|[0.0, 0.0, 0.0, 0...|\n",
            "|            Assam|[0.0, 0.0, 0.0, 0...|\n",
            "|            Bihar|[0.0, 0.0, 0.0, 0...|\n",
            "|       Chandigarh|[0.0, 0.0, 0.0, 0...|\n",
            "+-----------------+--------------------+\n",
            "only showing top 5 rows\n",
            "\n"
          ]
        }
      ]
    },
    {
      "cell_type": "code",
      "source": [
        "# 9. reduceByKey(func): Sum of EV sales by state\n",
        "total_sales = sales_rdd.reduceByKey(lambda x, y: x + y)\n",
        "total_sales_df = total_sales.toDF([\"State\", \"Total_Sales\"])\n",
        "total_sales_df.show(5)"
      ],
      "metadata": {
        "colab": {
          "base_uri": "https://localhost:8080/"
        },
        "id": "e4ozN_-a5Wbp",
        "outputId": "3bb91045-8af1-4e87-c5f6-5bf49752e020"
      },
      "execution_count": null,
      "outputs": [
        {
          "output_type": "stream",
          "name": "stdout",
          "text": [
            "+-----------------+-----------+\n",
            "|            State|Total_Sales|\n",
            "+-----------------+-----------+\n",
            "|   Andhra Pradesh|    77356.0|\n",
            "|Arunachal Pradesh|       40.0|\n",
            "|            Assam|   151917.0|\n",
            "|            Bihar|   213465.0|\n",
            "|       Chandigarh|    11453.0|\n",
            "+-----------------+-----------+\n",
            "only showing top 5 rows\n",
            "\n"
          ]
        }
      ]
    },
    {
      "cell_type": "code",
      "source": [
        "# 10. sortBy(func): Sort by EV sales quantity in descending order\n",
        "sorted_df = ev_df.orderBy(\"EV_Sales_Quantity\", ascending=False)\n",
        "sorted_df.show(5)"
      ],
      "metadata": {
        "colab": {
          "base_uri": "https://localhost:8080/"
        },
        "id": "zVyLvLw55-CT",
        "outputId": "87cd1098-aeaf-4596-cbf8-126b3867b83c"
      },
      "execution_count": null,
      "outputs": [
        {
          "output_type": "stream",
          "name": "stdout",
          "text": [
            "+------+----------+---------+-------------+---------------+----------------+------------------+-----------------+\n",
            "|  Year|Month_Name|     Date|        State|  Vehicle_Class|Vehicle_Category|      Vehicle_Type|EV_Sales_Quantity|\n",
            "+------+----------+---------+-------------+---------------+----------------+------------------+-----------------+\n",
            "|2023.0|       aug| 8/1/2023|Uttar Pradesh|  E-RICKSHAW(P)|      3-Wheelers|3W_Shared_LowSpeed|          20584.0|\n",
            "|2023.0|       dec|12/1/2023|Uttar Pradesh|  E-RICKSHAW(P)|      3-Wheelers|3W_Shared_LowSpeed|          20352.0|\n",
            "|2023.0|       may| 5/1/2023|  Maharashtra|M-CYCLE/SCOOTER|      2-Wheelers|       2W_Personal|          19908.0|\n",
            "|2023.0|       sep| 9/1/2023|Uttar Pradesh|  E-RICKSHAW(P)|      3-Wheelers|3W_Shared_LowSpeed|          19486.0|\n",
            "|2023.0|       jul| 7/1/2023|Uttar Pradesh|  E-RICKSHAW(P)|      3-Wheelers|3W_Shared_LowSpeed|          18769.0|\n",
            "+------+----------+---------+-------------+---------------+----------------+------------------+-----------------+\n",
            "only showing top 5 rows\n",
            "\n"
          ]
        }
      ]
    },
    {
      "cell_type": "code",
      "source": [
        "# Task 2: Actions\n",
        "# 1. collect(): Collect all data to driver as a list (use with caution on large datasets)\n",
        "collected_data = ev_df.collect()\n",
        "print(\"Collected Data:\", collected_data[:5])  # Printing only first 5 records for demonstration"
      ],
      "metadata": {
        "colab": {
          "base_uri": "https://localhost:8080/"
        },
        "id": "smnMelsT5-FA",
        "outputId": "c5ef85af-33ef-4236-97f5-8356e259a7f8"
      },
      "execution_count": null,
      "outputs": [
        {
          "output_type": "stream",
          "name": "stdout",
          "text": [
            "Collected Data: [Row(Year=2014.0, Month_Name='jan', Date='1/1/2014', State='Andhra Pradesh', Vehicle_Class='ADAPTED VEHICLE', Vehicle_Category='Others', Vehicle_Type='Others', EV_Sales_Quantity=0.0), Row(Year=2014.0, Month_Name='jan', Date='1/1/2014', State='Andhra Pradesh', Vehicle_Class='AGRICULTURAL TRACTOR', Vehicle_Category='Others', Vehicle_Type='Others', EV_Sales_Quantity=0.0), Row(Year=2014.0, Month_Name='jan', Date='1/1/2014', State='Andhra Pradesh', Vehicle_Class='AMBULANCE', Vehicle_Category='Others', Vehicle_Type='Others', EV_Sales_Quantity=0.0), Row(Year=2014.0, Month_Name='jan', Date='1/1/2014', State='Andhra Pradesh', Vehicle_Class='ARTICULATED VEHICLE', Vehicle_Category='Others', Vehicle_Type='Others', EV_Sales_Quantity=0.0), Row(Year=2014.0, Month_Name='jan', Date='1/1/2014', State='Andhra Pradesh', Vehicle_Class='BUS', Vehicle_Category='Bus', Vehicle_Type='Bus', EV_Sales_Quantity=0.0)]\n"
          ]
        }
      ]
    },
    {
      "cell_type": "code",
      "source": [
        "# 2. count(): Count number of rows in the dataset\n",
        "row_count = ev_df.count()\n",
        "print(\"Row Count:\", row_count)"
      ],
      "metadata": {
        "colab": {
          "base_uri": "https://localhost:8080/"
        },
        "id": "Y51e2rix5-H6",
        "outputId": "871e5418-a9be-4982-b7f6-ceb58f49a439"
      },
      "execution_count": null,
      "outputs": [
        {
          "output_type": "stream",
          "name": "stdout",
          "text": [
            "Row Count: 96845\n"
          ]
        }
      ]
    },
    {
      "cell_type": "code",
      "source": [
        "# 3. take(n): Retrieve first n rows\n",
        "top_rows = ev_df.take(5)\n",
        "print(\"Top 5 Rows:\", top_rows)"
      ],
      "metadata": {
        "colab": {
          "base_uri": "https://localhost:8080/"
        },
        "id": "E_elq-5g5-KS",
        "outputId": "64e2212a-478d-40c3-fce0-3e3f390aabec"
      },
      "execution_count": null,
      "outputs": [
        {
          "output_type": "stream",
          "name": "stdout",
          "text": [
            "Top 5 Rows: [Row(Year=2014.0, Month_Name='jan', Date='1/1/2014', State='Andhra Pradesh', Vehicle_Class='ADAPTED VEHICLE', Vehicle_Category='Others', Vehicle_Type='Others', EV_Sales_Quantity=0.0), Row(Year=2014.0, Month_Name='jan', Date='1/1/2014', State='Andhra Pradesh', Vehicle_Class='AGRICULTURAL TRACTOR', Vehicle_Category='Others', Vehicle_Type='Others', EV_Sales_Quantity=0.0), Row(Year=2014.0, Month_Name='jan', Date='1/1/2014', State='Andhra Pradesh', Vehicle_Class='AMBULANCE', Vehicle_Category='Others', Vehicle_Type='Others', EV_Sales_Quantity=0.0), Row(Year=2014.0, Month_Name='jan', Date='1/1/2014', State='Andhra Pradesh', Vehicle_Class='ARTICULATED VEHICLE', Vehicle_Category='Others', Vehicle_Type='Others', EV_Sales_Quantity=0.0), Row(Year=2014.0, Month_Name='jan', Date='1/1/2014', State='Andhra Pradesh', Vehicle_Class='BUS', Vehicle_Category='Bus', Vehicle_Type='Bus', EV_Sales_Quantity=0.0)]\n"
          ]
        }
      ]
    },
    {
      "cell_type": "code",
      "source": [
        "# 4. first(): Retrieve the first row\n",
        "first_row = ev_df.first()\n",
        "print(\"First Row:\", first_row)"
      ],
      "metadata": {
        "colab": {
          "base_uri": "https://localhost:8080/"
        },
        "id": "emrjuVny5-NV",
        "outputId": "0a99e3d8-cdab-4095-f39e-29f7c4118021"
      },
      "execution_count": null,
      "outputs": [
        {
          "output_type": "stream",
          "name": "stdout",
          "text": [
            "First Row: Row(Year=2014.0, Month_Name='jan', Date='1/1/2014', State='Andhra Pradesh', Vehicle_Class='ADAPTED VEHICLE', Vehicle_Category='Others', Vehicle_Type='Others', EV_Sales_Quantity=0.0)\n"
          ]
        }
      ]
    },
    {
      "cell_type": "code",
      "source": [
        "# 5. foreach(func): Apply function on each element for side effect (printing example)\n",
        "ev_df.foreach(lambda row: print(row))"
      ],
      "metadata": {
        "id": "tyXTjWtY5-Qj"
      },
      "execution_count": null,
      "outputs": []
    },
    {
      "cell_type": "code",
      "source": [
        "# 6. reduce(func): Example of reducing EV_Sales_Quantity with summation\n",
        "total_sales_quantity = ev_df.rdd.map(lambda row: row['EV_Sales_Quantity']).reduce(lambda x, y: x + y)\n",
        "print(\"Total Sales Quantity:\", total_sales_quantity)\n",
        "# 7. saveAsTextFile(path): Save the DataFrame to a text file (uncomment to use and specify a path)\n",
        "# ev_df.write.mode('overwrite').text(\"/content/ev_sales_text\")\n",
        "\n",
        "# 8. saveAsSequenceFile(path): Save RDD as sequence file (for Hadoop sequence files)\n",
        "# grouped_sales.saveAsSequenceFile(\"/content/grouped_sales_sequence\")\n"
      ],
      "metadata": {
        "colab": {
          "base_uri": "https://localhost:8080/"
        },
        "id": "1e2Sd4wk5-TB",
        "outputId": "74611b37-2f5f-4e76-9add-77b5c5874804"
      },
      "execution_count": null,
      "outputs": [
        {
          "output_type": "stream",
          "name": "stdout",
          "text": [
            "Total Sales Quantity: 3593811.0\n"
          ]
        }
      ]
    },
    {
      "cell_type": "code",
      "source": [
        "# 9. countByKey(): Count sales occurrences by state\n",
        "state_sales_count = sales_rdd.countByKey()\n",
        "print(\"Sales Count by State:\", dict(state_sales_count))\n",
        "\n",
        "# 10. saveAsParquetFile(path): Save as Parquet format\n",
        "# ev_df.write.mode('overwrite').parquet(\"/content/ev_sales_parquet\")\n",
        "\n",
        "# Stop the Spark session at the end of the assignment\n",
        "spark.stop()"
      ],
      "metadata": {
        "colab": {
          "base_uri": "https://localhost:8080/"
        },
        "id": "9GCQe1jU5-Wd",
        "outputId": "d28cb11d-e65b-4c06-92b5-3f231164ebaf"
      },
      "execution_count": null,
      "outputs": [
        {
          "output_type": "stream",
          "name": "stdout",
          "text": [
            "Sales Count by State: {'Andhra Pradesh': 3457, 'Arunachal Pradesh': 2285, 'Assam': 3114, 'Andaman & Nicobar Island': 1226, 'Bihar': 2544, 'Chhattisgarh': 3590, 'Chandigarh': 1554, 'DNH and DD': 1927, 'Delhi': 1871, 'Goa': 2139, 'Gujarat': 4517, 'Himachal Pradesh': 2980, 'Haryana': 3842, 'Jharkhand': 2773, 'Karnataka': 4830, 'Kerala': 3666, 'Ladakh': 1063, 'Maharashtra': 4912, 'Meghalaya': 1867, 'Madhya Pradesh': 3587, 'Mizoram': 1557, 'Nagaland': 1588, 'Odisha': 4027, 'Punjab': 2950, 'Puducherry': 1832, 'Rajasthan': 4552, 'Sikkim': 1246, 'Tamil Nadu': 4063, 'Tripura': 1564, 'Uttarakhand': 3045, 'Uttar Pradesh': 4557, 'West Bengal': 4196, 'Jammu and Kashmir': 2292, 'Manipur': 1632}\n"
          ]
        }
      ]
    }
  ]
}